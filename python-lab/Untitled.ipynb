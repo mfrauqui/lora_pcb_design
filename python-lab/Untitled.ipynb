{
 "cells": [
  {
   "cell_type": "code",
   "execution_count": 1,
   "metadata": {},
   "outputs": [
    {
     "ename": "NameError",
     "evalue": "name 'morsecode' is not defined",
     "output_type": "error",
     "traceback": [
      "\u001b[0;31m---------------------------------------------------------------------------\u001b[0m",
      "\u001b[0;31mNameError\u001b[0m                                 Traceback (most recent call last)",
      "\u001b[0;32m<ipython-input-1-88c25e695841>\u001b[0m in \u001b[0;36m<module>\u001b[0;34m()\u001b[0m\n\u001b[0;32m----> 1\u001b[0;31m \u001b[0mmorsecode\u001b[0m\u001b[0;34m(\u001b[0m\u001b[0;34m)\u001b[0m\u001b[0;34m\u001b[0m\u001b[0m\n\u001b[0m\u001b[1;32m      2\u001b[0m \u001b[0;32mdef\u001b[0m \u001b[0mdotmsg\u001b[0m\u001b[0;34m(\u001b[0m\u001b[0;34m)\u001b[0m\u001b[0;34m:\u001b[0m\u001b[0;34m\u001b[0m\u001b[0m\n\u001b[1;32m      3\u001b[0m     \u001b[0mprint\u001b[0m\u001b[0;34m(\u001b[0m\u001b[0;34m\".\"\u001b[0m\u001b[0;34m,\u001b[0m \u001b[0mend\u001b[0m\u001b[0;34m=\u001b[0m\u001b[0;34m\" \"\u001b[0m\u001b[0;34m)\u001b[0m\u001b[0;34m\u001b[0m\u001b[0m\n\u001b[1;32m      4\u001b[0m \u001b[0;34m\u001b[0m\u001b[0m\n\u001b[1;32m      5\u001b[0m \u001b[0;32mdef\u001b[0m \u001b[0mpausemsg\u001b[0m\u001b[0;34m(\u001b[0m\u001b[0;34m)\u001b[0m\u001b[0;34m:\u001b[0m\u001b[0;34m\u001b[0m\u001b[0m\n",
      "\u001b[0;31mNameError\u001b[0m: name 'morsecode' is not defined"
     ]
    }
   ],
   "source": [
    "morsecode()\n",
    "def dotmsg():\n",
    "    print(\".\", end=\" \")\n",
    " \n",
    "def pausemsg():\n",
    "    print(\" \", end=\" \")\n",
    " \n",
    "def linemsg():\n",
    "    for i in range(3):\n",
    "        dotmsg()\n",
    "        \n",
    "def morsecode():\n",
    "    for cycles in range(10):\n",
    "         dotmsg()     #send a dot -- red\n",
    "         pausemsg()   #send a pause -- yellow\n",
    "         linemsg()    #send three dots - a line -- red\n",
    "         pausemsg()   #send a pause -- yellow\n",
    " \n",
    "    \n"
   ]
  },
  {
   "cell_type": "code",
   "execution_count": null,
   "metadata": {},
   "outputs": [
    {
     "data": {
      "text/html": [
       "<div id=\"glowscript\" class=\"glowscript\"></div>"
      ],
      "text/plain": [
       "<IPython.core.display.HTML object>"
      ]
     },
     "metadata": {},
     "output_type": "display_data"
    },
    {
     "data": {
      "application/javascript": [
       "window.__context = { glowscript_container: $(\"#glowscript\").removeAttr(\"id\")}"
      ],
      "text/plain": [
       "<IPython.core.display.Javascript object>"
      ]
     },
     "metadata": {},
     "output_type": "display_data"
    },
    {
     "name": "stdout",
     "output_type": "stream",
     "text": [
      "ERROR! Session/line number was not unique in database. History logging moved to new session 27\n"
     ]
    }
   ],
   "source": [
    "# See the exercise \"Pendulum.pdf\" from Pendulum.html \n",
    "# in  http://www.physics.cornell.edu/sethna/StatMech/ComputerExercises/\n",
    "#\n",
    "\"\"\"Simple example animating the motion of a pendulum.\"\"\"\n",
    "\n",
    "# The \"visual\" module can create 3D objects (such as spheres, curves, etc.)\n",
    "# and animate their motions in space.\n",
    "# See www.vpython.org\n",
    "import vpython as visual\n",
    "# kludge required to get visual window up and running before import scipy/numpy\n",
    "scene2 = visual.canvas()\n",
    "c = visual.cone(radius=1.0e-10)\n",
    "c.visible = 0\n",
    "\n",
    "# numpy allows us to use \"array\", \"sin\", \"cos\" etc.\n",
    "# numpy is also imported in \"visual\"\n",
    "from numpy import *\t\n",
    "\n",
    "# Physical properties and initial conditions for pendulum\n",
    "\n",
    "g = 9.8\n",
    "L = 1.0\t\t\t\t# physical length of bar\n",
    "d = 0.02 \t\t\t# thickness of bar: needed for graphics\n",
    "theta = 2.*pi/3. \t\t# initial upper angle (from vertical)\n",
    "thetaDot = 0. \t\t\t# start pendulum at rest\n",
    "\n",
    "# Set up graphics display\n",
    "\n",
    "visual.scene.title = 'Pendulum'\n",
    "visual.scene.height = visual.scene.width = 800\n",
    "pivot = vec(0,0,0) \t\t# pivot position of pendulum\n",
    "visual.scene.center =pivot\t# graphics center\n",
    "\n",
    "# Build a cylinder representing current position of pendulum\n",
    "# Cylinder extends from bar.pos to bar.pos + bar.axis.\n",
    "#\n",
    "# \"visual\" will automagically move the image of the pendulum whenever\n",
    "# one of its properties changes: we'll be moving bar.axis\n",
    "\n",
    "bar = visual.cylinder(pos=pivot, axis = vec(L*sin(theta),\n",
    "                      -L*cos(theta),0), \n",
    "                      radius = d, color=visual.color.red)\n",
    "\n",
    "# The scale of the graph is set automatically by the system by default. \n",
    "# We allow it to do so for the first frame (created above when we\n",
    "# constructed \"bar\"), but don't want it to keep rescaling as the pendulum moves\n",
    "\n",
    "visual.scene.autoscale = False\n",
    "\n",
    "# visual.rate(rateWait) will pause to ensure not too many frames are drawn\n",
    "# so that the graphics can keep up\n",
    "\n",
    "framesPerSecond = 50\n",
    "\n",
    "# Time steps for our pendulum\n",
    "\n",
    "# Simple time stepping algorithm\n",
    "\n",
    "dt = 0.01\n",
    "t = 0.\n",
    "\n",
    "while 1:\n",
    "    # Calculate accelleration due to gravity\n",
    "    thetaDotDot = -(g/L) * sin(theta)\n",
    "    # Change velocity according to accelleration\n",
    "    thetaDot += thetaDotDot * dt\n",
    "    # Change position according to (updated) velocity\n",
    "    theta += thetaDot * dt\n",
    "    # Change position according to (updated) velocity\n",
    "    bar.axis = vec(L*sin(theta), -L*cos(theta), 0)\n",
    "    t = t+dt\n",
    "\n",
    "    # Slow down graphics\n",
    "    visual.rate(framesPerSecond)\n"
   ]
  },
  {
   "cell_type": "code",
   "execution_count": 3,
   "metadata": {},
   "outputs": [],
   "source": [
    "from vpython import *\n",
    "box()"
   ]
  },
  {
   "cell_type": "code",
   "execution_count": 16,
   "metadata": {},
   "outputs": [
    {
     "name": "stdout",
     "output_type": "stream",
     "text": [
      "<1, 3, 4> <1, 3, 4>\n"
     ]
    }
   ],
   "source": [
    "v = vec(1,3,4)\n",
    "v1 = vector(1,3,4)\n",
    "\n",
    "print(v, v1)"
   ]
  },
  {
   "cell_type": "code",
   "execution_count": null,
   "metadata": {},
   "outputs": [],
   "source": []
  }
 ],
 "metadata": {
  "kernelspec": {
   "display_name": "Python 3",
   "language": "python",
   "name": "python3"
  },
  "language_info": {
   "codemirror_mode": {
    "name": "ipython",
    "version": 3
   },
   "file_extension": ".py",
   "mimetype": "text/x-python",
   "name": "python",
   "nbconvert_exporter": "python",
   "pygments_lexer": "ipython3",
   "version": "3.6.5"
  }
 },
 "nbformat": 4,
 "nbformat_minor": 2
}
