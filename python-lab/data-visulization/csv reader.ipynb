{
 "cells": [
  {
   "cell_type": "code",
   "execution_count": 13,
   "metadata": {},
   "outputs": [
    {
     "name": "stdout",
     "output_type": "stream",
     "text": [
      "['12/4/1981', '2', '123', 'red']\n",
      "12/4/1981\n",
      "12/4/1981 2 123\n",
      "['12/4/1982', '3', '124', 'green']\n",
      "12/4/1982\n",
      "12/4/1982 3 124\n",
      "['12/4/1983', '4', '125', 'blue']\n",
      "12/4/1983\n",
      "12/4/1983 4 125\n",
      "['12/4/1984', '5', '126', 'red']\n",
      "12/4/1984\n",
      "12/4/1984 5 126\n",
      "['12/4/1985', '6', '127', 'red']\n",
      "12/4/1985\n",
      "12/4/1985 6 127\n",
      "['12/4/1986', '7', '128', 'blue']\n",
      "12/4/1986\n",
      "12/4/1986 7 128\n",
      "['12/4/1987', '8', '129', 'green']\n",
      "12/4/1987\n",
      "12/4/1987 8 129\n",
      "['12/4/1988', '9', '130', 'purple']\n",
      "12/4/1988\n",
      "12/4/1988 9 130\n",
      "['12/4/1989', '10', '131', 'red']\n",
      "12/4/1989\n",
      "12/4/1989 10 131\n"
     ]
    }
   ],
   "source": [
    "import csv\n",
    "\n",
    "with open('sample.csv') as csvfile:\n",
    "    readCSV = csv.reader(csvfile, delimiter='\\t')\n",
    "    for row in readCSV:\n",
    "        print(row)\n",
    "        print(row[0])\n",
    "        print(row[0],row[1],row[2],)"
   ]
  },
  {
   "cell_type": "code",
   "execution_count": 20,
   "metadata": {},
   "outputs": [
    {
     "name": "stdout",
     "output_type": "stream",
     "text": [
      "['date', 'lat', 'lng', 'color']\n",
      "['12/4/1981', '2', '123', 'red']\n",
      "['12/4/1982', '3', '124', 'green']\n",
      "['12/4/1983', '4', '125', 'blue']\n",
      "['12/4/1984', '5', '126', 'red']\n",
      "['12/4/1985', '6', '127', 'red']\n",
      "['12/4/1986', '7', '128', 'blue']\n",
      "['12/4/1987', '8', '129', 'green']\n",
      "['12/4/1988', '9', '130', 'purple']\n",
      "['12/4/1989', '10', '131', 'red']\n",
      "['date', '12/4/1981', '12/4/1982', '12/4/1983', '12/4/1984', '12/4/1985', '12/4/1986', '12/4/1987', '12/4/1988', '12/4/1989']\n",
      "['color', 'red', 'green', 'blue', 'red', 'red', 'blue', 'green', 'purple', 'red']\n"
     ]
    }
   ],
   "source": [
    "import csv\n",
    "\n",
    "with open('sample.csv') as csvfile:\n",
    "    readCSV = csv.reader(csvfile, delimiter='\\t')\n",
    "    dates = []\n",
    "    colors = []\n",
    "    for row in readCSV:\n",
    "        print(row)\n",
    "        color = row[3]\n",
    "        date = row[0]\n",
    "\n",
    "        dates.append(date)\n",
    "        colors.append(color)\n",
    "\n",
    "    print(dates)\n",
    "    print(colors)"
   ]
  },
  {
   "cell_type": "code",
   "execution_count": null,
   "metadata": {},
   "outputs": [],
   "source": []
  },
  {
   "cell_type": "code",
   "execution_count": 15,
   "metadata": {},
   "outputs": [
    {
     "name": "stdout",
     "output_type": "stream",
     "text": [
      "['12/4/1981', '12/4/1982', '12/4/1983', '12/4/1984', '12/4/1985', '12/4/1986', '12/4/1987', '12/4/1988', '12/4/1989']\n",
      "['red', 'green', 'blue', 'red', 'red', 'blue', 'green', 'purple', 'red']\n",
      "What color do you wish to know the date of?:blue\n",
      "The date of blue is: 12/4/1983\n"
     ]
    }
   ],
   "source": [
    "import csv\n",
    "\n",
    "with open('sample.csv') as csvfile:\n",
    "    readCSV = csv.reader(csvfile, delimiter='\\t')\n",
    "    dates = []\n",
    "    colors = []\n",
    "    for row in readCSV:\n",
    "        color = row[3]\n",
    "        date = row[0]\n",
    "\n",
    "        dates.append(date)\n",
    "        colors.append(color)\n",
    "\n",
    "    print(dates)\n",
    "    print(colors)\n",
    "\n",
    "    # now, remember our lists?\n",
    "\n",
    "    whatColor = input('What color do you wish to know the date of?:')\n",
    "    coldex = colors.index(whatColor)\n",
    "    theDate = dates[coldex]\n",
    "    print('The date of',whatColor,'is:',theDate)"
   ]
  },
  {
   "cell_type": "code",
   "execution_count": null,
   "metadata": {},
   "outputs": [],
   "source": [
    "import csv\n",
    "with open('eggs.csv', 'wb') as csvfile:\n",
    "    spamwriter = csv.writer(csvfile, delimiter=' ',\n",
    "                            quotechar='|', quoting=csv.QUOTE_MINIMAL)\n",
    "    spamwriter.writerow(['Spam'] * 5 + ['Baked Beans'])\n",
    "    spamwriter.writerow(['Spam', 'Lovely Spam', 'Wonderful Spam'])"
   ]
  },
  {
   "cell_type": "code",
   "execution_count": null,
   "metadata": {},
   "outputs": [],
   "source": [
    "import csv\n",
    "with open('names.csv') as csvfile:\n",
    "    reader = csv.DictReader(csvfile)\n",
    "    for row in reader:\n",
    "        print(row['first_name'], row['last_name'])"
   ]
  }
 ],
 "metadata": {
  "kernelspec": {
   "display_name": "Python 3",
   "language": "python",
   "name": "python3"
  },
  "language_info": {
   "codemirror_mode": {
    "name": "ipython",
    "version": 3
   },
   "file_extension": ".py",
   "mimetype": "text/x-python",
   "name": "python",
   "nbconvert_exporter": "python",
   "pygments_lexer": "ipython3",
   "version": "3.6.5"
  }
 },
 "nbformat": 4,
 "nbformat_minor": 2
}
