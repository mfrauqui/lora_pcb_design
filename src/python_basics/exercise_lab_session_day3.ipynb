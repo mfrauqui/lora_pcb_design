{
 "cells": [
  {
   "cell_type": "code",
   "execution_count": null,
   "metadata": {},
   "outputs": [],
   "source": [
    "import inspect\n",
    "\n",
    "def is_palindrome(string_var):     \n",
    "    '''\n",
    "    ex_1\n",
    "    '''\n",
    "    fname = inspect.stack()[0][3]\n",
    "    ret = None\n",
    "    ########################\n",
    "    for i,j in zip(string_var,reversed(string_var)):\n",
    "        ret = i == j\n",
    "    ########################\n",
    "    assert ret is not None, fname+' is not defined'\n",
    "    assert type(ret) is type(True), fname+' should return a bool'\n",
    "    if string_var is 'abcdefgfedcba': assert ret is True, 'failed abcdefgfedcba' \n",
    "    if string_var is 'pippo': assert ret is False, 'failed pippo' \n",
    "    if string_var is 'madamimadam': assert ret is True, 'failed madamimadam' \n",
    "    return ret \n",
    "\n",
    "is_palindrome('abcdefgfedcba')\n",
    "is_palindrome('pippo')\n",
    "is_palindrome('madamimadam')"
   ]
  },
  {
   "cell_type": "code",
   "execution_count": null,
   "metadata": {},
   "outputs": [],
   "source": [
    "def histogram_letters(string_var):     \n",
    "    '''\n",
    "    ex_2\n",
    "    '''\n",
    "    fname = inspect.stack()[0][3]\n",
    "    ret = None\n",
    "    ########################\n",
    "    ret = {}; \n",
    "    for s in string_var:\n",
    "        count = 0;\n",
    "        for i in string_var:\n",
    "            if s == i:\n",
    "                count+=1;\n",
    "        ret[s]=count;\n",
    "    ########################\n",
    "    assert ret is not None, fname+' is not defined'\n",
    "    assert type(ret) is type({}), fname+' should return a dict'\n",
    "    if string_var is 'aabb': assert ret == {'a':2,'b':2}, 'failed aabb' \n",
    "    if string_var is 'abbccddddeeeeeffffff': assert ret == {'a':1,'b':2,'c':2,'d':4,'e':5,'f':6}, 'failed abbccddddeeeeeffffff' \n",
    "    if string_var is '1223344': assert ret == {'1':10,'2':2,'3':2,'4':2}, 'failed 1.223344'\n",
    "    return ret \n",
    "\n",
    "histogram_letters(\"1.223344\")\n",
    "histogram_letters('aabb')\n",
    "histogram_letters('abbccddddeeeeeffffff')\n"
   ]
  },
  {
   "cell_type": "code",
   "execution_count": null,
   "metadata": {},
   "outputs": [],
   "source": [
    "def get_most_frequent(list_var):\n",
    "    '''\n",
    "    ex_3\n",
    "    '''\n",
    "    fname = inspect.stack()[0][3]\n",
    "    ret = None\n",
    "    ######################## \n",
    "    dict = {}\n",
    "    for i in list_var:\n",
    "        dict[i] = list_var.count(i)  \n",
    "    most_frequent = max(dict.values())\n",
    "    \n",
    "    ret = (list_var.count(most_frequent), most_frequent)\n",
    "#     for key, value in dict.items():\n",
    "#         if value ==  most_frequent:\n",
    "#             ret = (key, most_frequent)\n",
    "    print(ret)        \n",
    "    ########################\n",
    "    assert ret is not None, fname+' is not defined'\n",
    "    assert type(ret) is type(()), fname+' should return a tuple'\n",
    "    if list_var == [3,3,3,2,2,1]: assert ret == (3,3), 'failed [3,3,3,2,2,1]'\n",
    "    if list_var == [0,0,0,0,1]: assert ret == (0,4), 'failed [0,0,0,0,1]'\n",
    "    return ret\n",
    "\n",
    "get_most_frequent([3,3,3,2,2,1])\n",
    "get_most_frequent([0,0,0,0,1])\n"
   ]
  },
  {
   "cell_type": "code",
   "execution_count": 2,
   "metadata": {},
   "outputs": [
    {
     "name": "stdout",
     "output_type": "stream",
     "text": [
      "[7]\n",
      "[3, 5, 15, 25]\n"
     ]
    }
   ],
   "source": [
    " class MyException(Exception):\n",
    "    '''MyCustom Exception'''\n",
    "class MyNumber:\n",
    "    number=None\n",
    "    all_divs=None\n",
    "    \n",
    "    def __init__(self,number):\n",
    "#         if(self.isDivisibleBy7(number) and self.isMultipleOf5(number)):\n",
    "#             self.number = number\n",
    "#         else:\n",
    "#             raise MyException(\"number is not divisible by 7 and  multiple of 5\")\n",
    "        self.number = number\n",
    "        self.all_divs = sorted(self.which_divisors(number))\n",
    "        \n",
    "    def __str__(self):\n",
    "        return str(self.all_divs)\n",
    "    \n",
    "    def isDivisibleBy7(self):\n",
    "        if(self.number%7==0):return True\n",
    "        else:return False\n",
    "        \n",
    "    def isMultipleOf5(self):\n",
    "         if(self.number%5!=0):return True\n",
    "         else:return False\n",
    "        \n",
    "    def __del__(self):\n",
    "    \tif self.number == 49 : assert self.all_divs == [7], 'number is not divisible by 7 and  multiple of 5'\n",
    "    \tif self.number == 75 : assert self.all_divs == [3,5,15,25], 'number is not divisible by 7 and  multiple of 5'\n",
    "    \t\n",
    "    \t#if isinstance((m = MyNumber(49), MyNumber): assert m.all_divs == [7],'number is not divisible by 7 and  multiple of 5'\n",
    "        #assert print(MyNumber(75)) == '(49,[7])','number is not divisible by 7 and  multiple of 5'\n",
    "    def which_divisors(self,int_val): \n",
    "        ret = []\n",
    "        for i in range(2,int_val):\n",
    "            if int_val % i == 0:\n",
    "                ret.insert(-1,i)       \n",
    "        return ret\n",
    "m1 = MyNumber(49)\n",
    "m2 = MyNumber(75)\n",
    "print(m1)\n",
    "print(m2)"
   ]
  },
  {
   "cell_type": "code",
   "execution_count": 17,
   "metadata": {},
   "outputs": [
    {
     "name": "stdout",
     "output_type": "stream",
     "text": [
      "[7]\n",
      "None\n"
     ]
    }
   ],
   "source": [
    "class MyException(Exception):\n",
    "    '''MyCustom Exception'''\n",
    "class MyNumber:\n",
    "    number=None\n",
    "    all_divs=None\n",
    "    \n",
    "    def __init__(self,number):\n",
    "         if(self.isDivisibleBy7(number) and self.isMultipleOf5(number)):\n",
    "                self.number = number\n",
    "                self.all_divs = sorted(self.which_divisors(number))\n",
    "#         else:\n",
    "#             raise MyException(\"number is not divisible by 7 and  multiple of 5\")\n",
    "        #self.number = number\n",
    "        \n",
    "        \n",
    "    def __str__(self):\n",
    "        return str(self.all_divs)\n",
    "    \n",
    "    def isDivisibleBy7(self, number):\n",
    "        if(number%7==0):return True\n",
    "        else:return False\n",
    "        \n",
    "    def isMultipleOf5(self, number):\n",
    "         if(number%5!=0):return True\n",
    "         else:return False\n",
    "        \n",
    "    def __del__(self):\n",
    "    \tassert self.isDivisibleBy7(35) == True, 'number is not divisible by 7 and  multiple of 5'\n",
    "    def which_divisors(self,int_val): \n",
    "        ret = []\n",
    "        for i in range(2,int_val):\n",
    "            if int_val % i == 0:\n",
    "                ret.insert(-1,i)       \n",
    "        return ret\n",
    "m1 = MyNumber(49)\n",
    "m2 = MyNumber(75)\n",
    "print(m1)\n",
    "print(m2)"
   ]
  },
  {
   "cell_type": "code",
   "execution_count": 44,
   "metadata": {},
   "outputs": [
    {
     "name": "stdout",
     "output_type": "stream",
     "text": [
      "0.0\n",
      "1.4142135623730951\n",
      "1.1547005383792515\n"
     ]
    }
   ],
   "source": [
    "from math import sqrt\n",
    "\n",
    "def ploynomial(dict):\n",
    "    return lambda x: sqrt((dict['A'] + 2 * dict['B']*x)/(dict['C']**2))\n",
    "    \n",
    "p = ploynomial({'A':0,'B':0,'C':1})\n",
    "print(p(2))\n",
    "p = ploynomial({'A':0,'B':.5, 'C':1})\n",
    "print(p(2))\n",
    "p = ploynomial({'A':1,'B':.5, 'C':1.5})\n",
    "print(p(2))\n",
    "\n",
    " #{A=0,B=0,C=1}, {A=0,B=.5,C=1}, {A=1,B=.5,C=1}, {A=1,B=.5,C=1.5}"
   ]
  },
  {
   "cell_type": "code",
   "execution_count": 36,
   "metadata": {},
   "outputs": [
    {
     "name": "stdout",
     "output_type": "stream",
     "text": [
      "[1, 2, 3, 4]\n",
      "[1, 3]\n",
      "[1, 3]\n",
      "[4, 5, 6, 7]\n",
      "10\n",
      "24\n",
      "24\n",
      "24\n"
     ]
    }
   ],
   "source": [
    "import functools\n",
    "'''List generate a list'''\n",
    "l  = list(range(1,5))\n",
    "'''Filter filter a list based on condition, expressed by a lambda function'''\n",
    "l1 = list(filter(lambda x:x%2,l))\n",
    "l2 = list(filter(lambda x:x%2 !=0,l))\n",
    "\n",
    "l3 = list(map(lambda x:x+3,l))\n",
    "'''Reduce function perform currification'''\n",
    "ssum = functools.reduce(lambda x,y:x+y,l)\n",
    "f = functools.reduce(lambda x,y:x*y,l)\n",
    "\n",
    "def fact(n):\n",
    "    return functools.reduce(lambda x,y:x*y,[x for x in range(1,n+1)])\n",
    "\n",
    "def fact1(n):\n",
    "    return functools.reduce(lambda x,y:x*y,list(range(1,n+1)))\n",
    "\n",
    "print(l)\n",
    "print(l1)\n",
    "print(l2)\n",
    "print(l3)\n",
    "print(ssum)\n",
    "print(f)\n",
    "print(fact(4))\n",
    "print(fact1(4))\n"
   ]
  },
  {
   "cell_type": "code",
   "execution_count": 46,
   "metadata": {},
   "outputs": [
    {
     "name": "stdout",
     "output_type": "stream",
     "text": [
      "[('__add__', <slot wrapper '__add__' of 'str' objects>), ('__class__', <class 'type'>), ('__contains__', <slot wrapper '__contains__' of 'str' objects>), ('__delattr__', <slot wrapper '__delattr__' of 'object' objects>), ('__dir__', <method '__dir__' of 'object' objects>), ('__doc__', \"str(object='') -> str\\nstr(bytes_or_buffer[, encoding[, errors]]) -> str\\n\\nCreate a new string object from the given object. If encoding or\\nerrors is specified, then the object must expose a data buffer\\nthat will be decoded using the given encoding and error handler.\\nOtherwise, returns the result of object.__str__() (if defined)\\nor repr(object).\\nencoding defaults to sys.getdefaultencoding().\\nerrors defaults to 'strict'.\"), ('__eq__', <slot wrapper '__eq__' of 'str' objects>), ('__format__', <method '__format__' of 'str' objects>), ('__ge__', <slot wrapper '__ge__' of 'str' objects>), ('__getattribute__', <slot wrapper '__getattribute__' of 'str' objects>), ('__getitem__', <slot wrapper '__getitem__' of 'str' objects>), ('__getnewargs__', <method '__getnewargs__' of 'str' objects>), ('__gt__', <slot wrapper '__gt__' of 'str' objects>), ('__hash__', <slot wrapper '__hash__' of 'str' objects>), ('__init__', <slot wrapper '__init__' of 'object' objects>), ('__init_subclass__', <built-in method __init_subclass__ of type object at 0x10e9fdaa0>), ('__iter__', <slot wrapper '__iter__' of 'str' objects>), ('__le__', <slot wrapper '__le__' of 'str' objects>), ('__len__', <slot wrapper '__len__' of 'str' objects>), ('__lt__', <slot wrapper '__lt__' of 'str' objects>), ('__mod__', <slot wrapper '__mod__' of 'str' objects>), ('__mul__', <slot wrapper '__mul__' of 'str' objects>), ('__ne__', <slot wrapper '__ne__' of 'str' objects>), ('__new__', <built-in method __new__ of type object at 0x10e9fdaa0>), ('__reduce__', <method '__reduce__' of 'object' objects>), ('__reduce_ex__', <method '__reduce_ex__' of 'object' objects>), ('__repr__', <slot wrapper '__repr__' of 'str' objects>), ('__rmod__', <slot wrapper '__rmod__' of 'str' objects>), ('__rmul__', <slot wrapper '__rmul__' of 'str' objects>), ('__setattr__', <slot wrapper '__setattr__' of 'object' objects>), ('__sizeof__', <method '__sizeof__' of 'str' objects>), ('__str__', <slot wrapper '__str__' of 'str' objects>), ('__subclasshook__', <built-in method __subclasshook__ of type object at 0x10e9fdaa0>), ('capitalize', <method 'capitalize' of 'str' objects>), ('casefold', <method 'casefold' of 'str' objects>), ('center', <method 'center' of 'str' objects>), ('count', <method 'count' of 'str' objects>), ('encode', <method 'encode' of 'str' objects>), ('endswith', <method 'endswith' of 'str' objects>), ('expandtabs', <method 'expandtabs' of 'str' objects>), ('find', <method 'find' of 'str' objects>), ('format', <method 'format' of 'str' objects>), ('format_map', <method 'format_map' of 'str' objects>), ('index', <method 'index' of 'str' objects>), ('isalnum', <method 'isalnum' of 'str' objects>), ('isalpha', <method 'isalpha' of 'str' objects>), ('isdecimal', <method 'isdecimal' of 'str' objects>), ('isdigit', <method 'isdigit' of 'str' objects>), ('isidentifier', <method 'isidentifier' of 'str' objects>), ('islower', <method 'islower' of 'str' objects>), ('isnumeric', <method 'isnumeric' of 'str' objects>), ('isprintable', <method 'isprintable' of 'str' objects>), ('isspace', <method 'isspace' of 'str' objects>), ('istitle', <method 'istitle' of 'str' objects>), ('isupper', <method 'isupper' of 'str' objects>), ('join', <method 'join' of 'str' objects>), ('ljust', <method 'ljust' of 'str' objects>), ('lower', <method 'lower' of 'str' objects>), ('lstrip', <method 'lstrip' of 'str' objects>), ('maketrans', <built-in method maketrans of type object at 0x10e9fdaa0>), ('partition', <method 'partition' of 'str' objects>), ('replace', <method 'replace' of 'str' objects>), ('rfind', <method 'rfind' of 'str' objects>), ('rindex', <method 'rindex' of 'str' objects>), ('rjust', <method 'rjust' of 'str' objects>), ('rpartition', <method 'rpartition' of 'str' objects>), ('rsplit', <method 'rsplit' of 'str' objects>), ('rstrip', <method 'rstrip' of 'str' objects>), ('split', <method 'split' of 'str' objects>), ('splitlines', <method 'splitlines' of 'str' objects>), ('startswith', <method 'startswith' of 'str' objects>), ('strip', <method 'strip' of 'str' objects>), ('swapcase', <method 'swapcase' of 'str' objects>), ('title', <method 'title' of 'str' objects>), ('translate', <method 'translate' of 'str' objects>), ('upper', <method 'upper' of 'str' objects>), ('zfill', <method 'zfill' of 'str' objects>)]\n",
      "['__add__', '__class__', '__contains__', '__delattr__', '__dir__', '__doc__', '__eq__', '__format__', '__ge__', '__getattribute__', '__getitem__', '__getnewargs__', '__gt__', '__hash__', '__init__', '__init_subclass__', '__iter__', '__le__', '__len__', '__lt__', '__mod__', '__mul__', '__ne__', '__new__', '__reduce__', '__reduce_ex__', '__repr__', '__rmod__', '__rmul__', '__setattr__', '__sizeof__', '__str__', '__subclasshook__', 'capitalize', 'casefold', 'center', 'count', 'encode', 'endswith', 'expandtabs', 'find', 'format', 'format_map', 'index', 'isalnum', 'isalpha', 'isdecimal', 'isdigit', 'isidentifier', 'islower', 'isnumeric', 'isprintable', 'isspace', 'istitle', 'isupper', 'join', 'ljust', 'lower', 'lstrip', 'maketrans', 'partition', 'replace', 'rfind', 'rindex', 'rjust', 'rpartition', 'rsplit', 'rstrip', 'split', 'splitlines', 'startswith', 'strip', 'swapcase', 'title', 'translate', 'upper', 'zfill']\n"
     ]
    }
   ],
   "source": [
    "import inspect\n",
    "print(inspect.getmembers(str))\n",
    "print(dir(str))"
   ]
  },
  {
   "cell_type": "code",
   "execution_count": null,
   "metadata": {},
   "outputs": [],
   "source": []
  },
  {
   "cell_type": "code",
   "execution_count": null,
   "metadata": {},
   "outputs": [],
   "source": []
  }
 ],
 "metadata": {
  "kernelspec": {
   "display_name": "Python 3",
   "language": "python",
   "name": "python3"
  },
  "language_info": {
   "codemirror_mode": {
    "name": "ipython",
    "version": 3
   },
   "file_extension": ".py",
   "mimetype": "text/x-python",
   "name": "python",
   "nbconvert_exporter": "python",
   "pygments_lexer": "ipython3",
   "version": "3.6.5"
  }
 },
 "nbformat": 4,
 "nbformat_minor": 2
}
